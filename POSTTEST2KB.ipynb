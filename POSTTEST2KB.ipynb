{
 "cells": [
  {
   "cell_type": "code",
   "execution_count": 13,
   "id": "b4bccf50-9eef-48d7-acec-39c22431aeac",
   "metadata": {},
   "outputs": [],
   "source": [
    "import pandas as pd\n",
    "import matplotlib\n",
    "import matplotlib.pyplot as plt\n",
    "import seaborn as sns\n",
    "import numpy as np"
   ]
  },
  {
   "cell_type": "code",
   "execution_count": 14,
   "id": "8076e25f-12f2-4d81-b1ee-7496b1cbd740",
   "metadata": {},
   "outputs": [
    {
     "data": {
      "text/html": [
       "<div>\n",
       "<style scoped>\n",
       "    .dataframe tbody tr th:only-of-type {\n",
       "        vertical-align: middle;\n",
       "    }\n",
       "\n",
       "    .dataframe tbody tr th {\n",
       "        vertical-align: top;\n",
       "    }\n",
       "\n",
       "    .dataframe thead th {\n",
       "        text-align: right;\n",
       "    }\n",
       "</style>\n",
       "<table border=\"1\" class=\"dataframe\">\n",
       "  <thead>\n",
       "    <tr style=\"text-align: right;\">\n",
       "      <th></th>\n",
       "      <th>Age</th>\n",
       "      <th>Gender</th>\n",
       "      <th>Education Level</th>\n",
       "      <th>Job Title</th>\n",
       "      <th>Years of Experience</th>\n",
       "      <th>Salary</th>\n",
       "    </tr>\n",
       "  </thead>\n",
       "  <tbody>\n",
       "    <tr>\n",
       "      <th>0</th>\n",
       "      <td>32.0</td>\n",
       "      <td>Male</td>\n",
       "      <td>Bachelor's</td>\n",
       "      <td>Software Engineer</td>\n",
       "      <td>5.0</td>\n",
       "      <td>90000.0</td>\n",
       "    </tr>\n",
       "    <tr>\n",
       "      <th>1</th>\n",
       "      <td>28.0</td>\n",
       "      <td>Female</td>\n",
       "      <td>Master's</td>\n",
       "      <td>Data Analyst</td>\n",
       "      <td>3.0</td>\n",
       "      <td>65000.0</td>\n",
       "    </tr>\n",
       "    <tr>\n",
       "      <th>2</th>\n",
       "      <td>45.0</td>\n",
       "      <td>Male</td>\n",
       "      <td>PhD</td>\n",
       "      <td>Senior Manager</td>\n",
       "      <td>15.0</td>\n",
       "      <td>150000.0</td>\n",
       "    </tr>\n",
       "    <tr>\n",
       "      <th>3</th>\n",
       "      <td>36.0</td>\n",
       "      <td>Female</td>\n",
       "      <td>Bachelor's</td>\n",
       "      <td>Sales Associate</td>\n",
       "      <td>7.0</td>\n",
       "      <td>60000.0</td>\n",
       "    </tr>\n",
       "    <tr>\n",
       "      <th>4</th>\n",
       "      <td>52.0</td>\n",
       "      <td>Male</td>\n",
       "      <td>Master's</td>\n",
       "      <td>Director</td>\n",
       "      <td>20.0</td>\n",
       "      <td>200000.0</td>\n",
       "    </tr>\n",
       "  </tbody>\n",
       "</table>\n",
       "</div>"
      ],
      "text/plain": [
       "    Age  Gender Education Level          Job Title  Years of Experience  \\\n",
       "0  32.0    Male      Bachelor's  Software Engineer                  5.0   \n",
       "1  28.0  Female        Master's       Data Analyst                  3.0   \n",
       "2  45.0    Male             PhD     Senior Manager                 15.0   \n",
       "3  36.0  Female      Bachelor's    Sales Associate                  7.0   \n",
       "4  52.0    Male        Master's           Director                 20.0   \n",
       "\n",
       "     Salary  \n",
       "0   90000.0  \n",
       "1   65000.0  \n",
       "2  150000.0  \n",
       "3   60000.0  \n",
       "4  200000.0  "
      ]
     },
     "execution_count": 14,
     "metadata": {},
     "output_type": "execute_result"
    }
   ],
   "source": [
    "df = pd.read_csv('salary_data.csv')\n",
    "df.head()"
   ]
  },
  {
   "cell_type": "code",
   "execution_count": 15,
   "id": "dcaafa99-5714-490b-b340-57379f7436b9",
   "metadata": {},
   "outputs": [
    {
     "data": {
      "text/plain": [
       "(375, 6)"
      ]
     },
     "execution_count": 15,
     "metadata": {},
     "output_type": "execute_result"
    }
   ],
   "source": [
    "df.shape"
   ]
  },
  {
   "cell_type": "code",
   "execution_count": 68,
   "id": "666bfab6-b0d6-4c69-a23d-48adbcd775e1",
   "metadata": {},
   "outputs": [
    {
     "data": {
      "text/plain": [
       "array([ 5. ,  3. , 15. ,  7. , 20. ,  2. , 12. ,  4. ,  1. , 10. , 18. ,\n",
       "        6. , 14. , 16. ,  0. , 22. , 19. ,  9. , 13. , 11. , 25. , 21. ,\n",
       "        8. , 17. , 23. , 24. ,  0.5,  1.5])"
      ]
     },
     "execution_count": 68,
     "metadata": {},
     "output_type": "execute_result"
    }
   ],
   "source": [
    "df['Years of Experience'].unique()"
   ]
  },
  {
   "cell_type": "code",
   "execution_count": 59,
   "id": "cbfe7cb1-5ed0-4f63-9f75-cb9e05643656",
   "metadata": {},
   "outputs": [],
   "source": [
    "df.set_index('Age', inplace=True)"
   ]
  },
  {
   "cell_type": "code",
   "execution_count": 60,
   "id": "d6eca084-f392-4ed1-b44f-98abbf05ab2d",
   "metadata": {},
   "outputs": [
    {
     "data": {
      "text/html": [
       "<div>\n",
       "<style scoped>\n",
       "    .dataframe tbody tr th:only-of-type {\n",
       "        vertical-align: middle;\n",
       "    }\n",
       "\n",
       "    .dataframe tbody tr th {\n",
       "        vertical-align: top;\n",
       "    }\n",
       "\n",
       "    .dataframe thead th {\n",
       "        text-align: right;\n",
       "    }\n",
       "</style>\n",
       "<table border=\"1\" class=\"dataframe\">\n",
       "  <thead>\n",
       "    <tr style=\"text-align: right;\">\n",
       "      <th></th>\n",
       "      <th>Gender</th>\n",
       "      <th>Education Level</th>\n",
       "      <th>Years of Experience</th>\n",
       "      <th>Salary</th>\n",
       "    </tr>\n",
       "    <tr>\n",
       "      <th>Age</th>\n",
       "      <th></th>\n",
       "      <th></th>\n",
       "      <th></th>\n",
       "      <th></th>\n",
       "    </tr>\n",
       "  </thead>\n",
       "  <tbody>\n",
       "    <tr>\n",
       "      <th>32.0</th>\n",
       "      <td>Male</td>\n",
       "      <td>Bachelor's</td>\n",
       "      <td>5.0</td>\n",
       "      <td>90000.0</td>\n",
       "    </tr>\n",
       "    <tr>\n",
       "      <th>28.0</th>\n",
       "      <td>Female</td>\n",
       "      <td>Master's</td>\n",
       "      <td>3.0</td>\n",
       "      <td>65000.0</td>\n",
       "    </tr>\n",
       "    <tr>\n",
       "      <th>45.0</th>\n",
       "      <td>Male</td>\n",
       "      <td>PhD</td>\n",
       "      <td>15.0</td>\n",
       "      <td>150000.0</td>\n",
       "    </tr>\n",
       "    <tr>\n",
       "      <th>36.0</th>\n",
       "      <td>Female</td>\n",
       "      <td>Bachelor's</td>\n",
       "      <td>7.0</td>\n",
       "      <td>60000.0</td>\n",
       "    </tr>\n",
       "    <tr>\n",
       "      <th>52.0</th>\n",
       "      <td>Male</td>\n",
       "      <td>Master's</td>\n",
       "      <td>20.0</td>\n",
       "      <td>200000.0</td>\n",
       "    </tr>\n",
       "  </tbody>\n",
       "</table>\n",
       "</div>"
      ],
      "text/plain": [
       "      Gender Education Level  Years of Experience    Salary\n",
       "Age                                                        \n",
       "32.0    Male      Bachelor's                  5.0   90000.0\n",
       "28.0  Female        Master's                  3.0   65000.0\n",
       "45.0    Male             PhD                 15.0  150000.0\n",
       "36.0  Female      Bachelor's                  7.0   60000.0\n",
       "52.0    Male        Master's                 20.0  200000.0"
      ]
     },
     "execution_count": 60,
     "metadata": {},
     "output_type": "execute_result"
    }
   ],
   "source": [
    "df.head()"
   ]
  },
  {
   "cell_type": "code",
   "execution_count": 16,
   "id": "f3b11630-beff-48d5-a0a7-e16997f26ce1",
   "metadata": {},
   "outputs": [
    {
     "name": "stdout",
     "output_type": "stream",
     "text": [
      "              Age  Years of Experience         Salary\n",
      "count  373.000000           373.000000     373.000000\n",
      "mean    37.431635            10.030831  100577.345845\n",
      "std      7.069073             6.557007   48240.013482\n",
      "min     23.000000             0.000000     350.000000\n",
      "25%     31.000000             4.000000   55000.000000\n",
      "50%     36.000000             9.000000   95000.000000\n",
      "75%     44.000000            15.000000  140000.000000\n",
      "max     53.000000            25.000000  250000.000000\n"
     ]
    }
   ],
   "source": [
    "statistik_numerik = df.describe()\n",
    "print(statistik_numerik)"
   ]
  },
  {
   "cell_type": "markdown",
   "id": "956f013f-e337-4023-9de4-c199f17a4d48",
   "metadata": {},
   "source": [
    "# Soal 1"
   ]
  },
  {
   "cell_type": "markdown",
   "id": "438bb2bd-6a71-4667-a5e1-cd051c7e7053",
   "metadata": {},
   "source": [
    "### Untuk soal 1 itu tabel yang menampilkan rata-rata(mean), standar deviasi, nilai minimum, nilai maksimum, Q1, Q2 dan Q3\n",
    "\n",
    "#### ada 'count' itu jumlah baris yang valid untuk setiap kolom, 'mean' itu nilai rata-rata dari setiap kolom dengan menjumlahkan semua nilai dan membaginya dengan 'count', 'std' ialah standar deviasi mengukur seberapa tersebar data dari 'mean', 'min' ialah nilai terkecil, '25%' adalah Q1 Ini adalah batas nilai di mana 25% data berada di bawah angka ini, '50%' adalah Q2 Ini adalah nilai tengah dari seluruh data, '75%' adalah Q3 Ini adalah batas nilai di mana 75% data berada di bawah angka ini dan terakhir 'max' adalah nilai terbesar."
   ]
  },
  {
   "cell_type": "code",
   "execution_count": 17,
   "id": "c31fa3f6-ed40-4c56-ac56-ef9ce99c8ca4",
   "metadata": {},
   "outputs": [
    {
     "name": "stdout",
     "output_type": "stream",
     "text": [
      "    Age  Years of Experience    Salary\n",
      "0  32.0                  5.0   90000.0\n",
      "1  28.0                  3.0   65000.0\n",
      "2  45.0                 15.0  150000.0\n",
      "3  36.0                  7.0   60000.0\n",
      "4  52.0                 20.0  200000.0\n",
      "5  29.0                  2.0   55000.0\n",
      "6  42.0                 12.0  120000.0\n",
      "7  31.0                  4.0   80000.0\n",
      "8  26.0                  1.0   45000.0\n",
      "9  38.0                 10.0  110000.0\n"
     ]
    }
   ],
   "source": [
    "kolom_angka = df.select_dtypes(include = 'number')\n",
    "sepuluh_record = kolom_angka.head(10)\n",
    "print(sepuluh_record)"
   ]
  },
  {
   "cell_type": "markdown",
   "id": "8c250d6f-203d-4b82-9fff-d6ddedb5b461",
   "metadata": {},
   "source": [
    "# Soal 2"
   ]
  },
  {
   "cell_type": "markdown",
   "id": "4d2df036-428d-4903-92e2-8fcc9c2f9ce0",
   "metadata": {},
   "source": [
    "## untuk soal 2 menampilkan 10 record pertama dari dataset dengan attribute bertipe angka\n",
    "\n",
    "### tabel yang hanya menampilkan angka-angka saja di file csv memiliki kolom teks ('Gender', 'Job Title') dan kolom angka ('Age', 'Salary'). Perintah ini seperti menggunakan fitur filter di Excel dan menyembunyikan seluruh isi teks dan hanya nampilkan angka saja dengan perintah \"kolom_angka = df.select_dtypes(includes = 'number')\" karena mempertahankan tipe datanya numerik\n",
    "\n",
    "###  Perintah 'sepuluh_record = kolom_angka.head(10)' seperti menggulir ke paling atas dan menyoroti 10 baris data pertama (judul tidak termasuk) karena '.head()' berarti di kepala atau di atas sedangkan angka '10' itu hanya mengambil 10 baris saja"
   ]
  },
  {
   "cell_type": "code",
   "execution_count": 69,
   "id": "62a3c3f4-bf49-4e5a-bb56-cda8130c398d",
   "metadata": {},
   "outputs": [
    {
     "name": "stdout",
     "output_type": "stream",
     "text": [
      "Jumlah Record        : 373\n",
      "Jumlah Atribut       : 4\n",
      "Nama Atribut         : ['Gender', 'Education Level', 'Years of Experience', 'Salary']\n",
      "Jumlah Atribut Angka : 2\n"
     ]
    }
   ],
   "source": [
    "df.dropna(inplace = True)\n",
    "jumlah_record, jumlah_atribut = df.shape\n",
    "nama_atribut = df.columns.tolist()\n",
    "jumlah_atribut_ang = df.select_dtypes(include = np.number).shape[1]\n",
    "\n",
    "print(f\"Jumlah Record        : {jumlah_record}\")\n",
    "print(f\"Jumlah Atribut       : {jumlah_atribut}\")\n",
    "print(f\"Nama Atribut         : {nama_atribut}\")\n",
    "print(f\"Jumlah Atribut Angka : {jumlah_atribut_ang}\")"
   ]
  },
  {
   "cell_type": "markdown",
   "id": "7c4086c5-a3a8-4323-8157-b146fe05e04d",
   "metadata": {},
   "source": [
    "# Soal 3\n",
    "\n",
    "## pada soal 3 menampilkan informasi jumlah record, jumlah attribute, nama attribute, jumlah attribute dengan tipe angka.\n",
    "\n",
    "### pada bagian 'df.dropna(inplace = True)' Fungsinya untuk menghapus baris mana pun yang punya nilai kosong, memastikan bahwa informasi yang kita dapatkan berasal dari data yang lengkap\n",
    "\n",
    "### kode bagian 'df.shape' itu untuk mengembalikan sebuah tuple yang berisi 'jumlah_baris, jumlah_kolom', itu disimpan ke dalam dua variabel 'jumlah_record' dan 'jumlah_attribute' secara langsung\n",
    "\n",
    "### kode 'df.columns.tolist()' Atribut '.columns' mengambil semua nama kolom, metode '.tolist()' mengubahnya menjadi format daftar atau list\n",
    "\n",
    "### tambahan sedikit untuk kode bagian 'df.select_dtypes(include = np.number).shape[1]' ada tambahan '.shape[1]' itu menunjuk pada elemen kedua, yaitu jumlah kolom"
   ]
  },
  {
   "cell_type": "code",
   "execution_count": 30,
   "id": "f9413ba4-beb9-40b8-a289-550d99e2b277",
   "metadata": {
    "scrolled": true
   },
   "outputs": [
    {
     "name": "stdout",
     "output_type": "stream",
     "text": [
      "Jumlah Label untuk setiap atribut kategorikal:\n",
      "\n",
      "Atribut: Gender\n",
      "Gender\n",
      "Male      194\n",
      "Female    179\n",
      "Name: count, dtype: int64\n",
      "\n",
      "\n",
      "Atribut: Education Level\n",
      "Education Level\n",
      "Bachelor's    224\n",
      "Master's       98\n",
      "PhD            51\n",
      "Name: count, dtype: int64\n",
      "\n",
      "\n",
      "Atribut: Job Title\n",
      "Job Title\n",
      "Director of Marketing              12\n",
      "Director of Operations             11\n",
      "Senior Business Analyst            10\n",
      "Senior Marketing Analyst            9\n",
      "Senior Marketing Manager            9\n",
      "                                   ..\n",
      "Business Development Manager        1\n",
      "Customer Service Representative     1\n",
      "IT Manager                          1\n",
      "Digital Marketing Manager           1\n",
      "Junior Web Developer                1\n",
      "Name: count, Length: 174, dtype: int64\n",
      "\n",
      "\n"
     ]
    }
   ],
   "source": [
    "kolom_objek = df.select_dtypes(include = 'object').columns\n",
    "print(\"Jumlah Label untuk setiap atribut kategorikal:\\n\")\n",
    "for col in kolom_objek:\n",
    "    print(f\"Atribut: {col}\")\n",
    "    print(df[col].value_counts())\n",
    "    print(\"\\n\")"
   ]
  },
  {
   "cell_type": "markdown",
   "id": "cb7c48d5-7189-42cd-b93f-a72760deb537",
   "metadata": {},
   "source": [
    "# Soal 4\n",
    "\n",
    "## untuk soal 4 memampilkan jumlah label dari semua attribute yang bernilai object \n",
    "\n",
    "### kode bagian ' df.select_dtypes(include = 'object').columns' mengambil nama-nama kolom yang tipe datanya adalah teks, alhasil adalah sebuah daftar nama kolom, yaitu ['Gender', 'Education Level', 'Job Title']\n",
    "\n",
    "### untuk kode bagian 'for col in kolom_objek:...' itu adalah sebuah perulangan/loop mengambil setiap nama kolom dari daftar 'kolom_objek' satu per satu dan menjalankan kode di selanjutnya"
   ]
  },
  {
   "cell_type": "code",
   "execution_count": 31,
   "id": "7e65bcba-5146-438c-8f1e-0435236ea926",
   "metadata": {},
   "outputs": [
    {
     "data": {
      "text/plain": [
       "<Figure size 1000x600 with 0 Axes>"
      ]
     },
     "execution_count": 31,
     "metadata": {},
     "output_type": "execute_result"
    },
    {
     "data": {
      "text/plain": [
       "<Figure size 1000x600 with 0 Axes>"
      ]
     },
     "metadata": {},
     "output_type": "display_data"
    }
   ],
   "source": [
    "plt.figure(figsize = (10, 6))"
   ]
  },
  {
   "cell_type": "code",
   "execution_count": 70,
   "id": "02f2735b-e734-4c72-9a9d-b13ae9624693",
   "metadata": {},
   "outputs": [
    {
     "name": "stderr",
     "output_type": "stream",
     "text": [
      "C:\\Users\\user\\AppData\\Local\\Temp\\ipykernel_8604\\463064272.py:5: FutureWarning: \n",
      "\n",
      "Passing `palette` without assigning `hue` is deprecated and will be removed in v0.14.0. Assign the `x` variable to `hue` and set `legend=False` for the same effect.\n",
      "\n",
      "  sns.barplot(\n"
     ]
    },
    {
     "data": {
      "image/png": "[encoded data removed]",
      "text/plain": [
       "<Figure size 1000x600 with 1 Axes>"
      ]
     },
     "metadata": {},
     "output_type": "display_data"
    }
   ],
   "source": [
    "rata_gaji = df.groupby('Education Level')['Salary'].mean()\n",
    "\n",
    "plt.figure(figsize=(10, 6))\n",
    "\n",
    "sns.barplot(\n",
    "    x = rata_gaji.index,\n",
    "    y = rata_gaji.values,\n",
    "    palette = 'viridis'\n",
    ")\n",
    "\n",
    "plt.title('Rata-rata gaji berdasarkan Gelar', fontsize=16)\n",
    "plt.xlabel('Gelar', fontsize=12)\n",
    "plt.ylabel('Rata-rata gaji', fontsize=12)\n",
    "plt.xticks(rotation=45, ha='right')\n",
    "plt.show()"
   ]
  },
  {
   "cell_type": "markdown",
   "id": "e17b38ca-0483-445d-b98f-fa67158ebebe",
   "metadata": {},
   "source": [
    "# Soal 5\n",
    "\n",
    "## Soal 5 yang dituju yaitu tentang visualisasikan dataset dengan salah satu grafik dan grafik yang saya pilih yaitu Barplot\n",
    "\n",
    "### kode bagian 'rata_gaji = df.groupby('Education Level')['Salary'].mean()' Hasilnya adalah sebuah Series di mana index-nya adalah 'Education Level' dan values-nya adalah rata-rata 'Salary'.\n",
    "\n",
    "### 'plt.figure' baris kode yang mengatur \"kanvas\" atau ukuran gambar plot jadi 10x6 inci agar tidak terlalu sempit\n",
    "\n",
    "### 'sns.barplot(...)' bagian kode ini adalah fungsi utama dari seaborn untuk membuat bar plot\n",
    "\n",
    "### dari kode bagian 'plt.title', 'plt.ylabel', 'plt.xticks' Fungsi-fungsi ini digunakan untuk memberikan judul pada grafik, mengatur rotasi judul dan label pada sumbu-sumbunya."
   ]
  },
  {
   "cell_type": "code",
   "execution_count": 49,
   "id": "c48815f4-aff7-42c2-afa7-e1478f93d8e1",
   "metadata": {},
   "outputs": [
    {
     "data": {
      "image/png": "[encoded data removed]",
      "text/plain": [
       "<Figure size 1000x700 with 2 Axes>"
      ]
     },
     "metadata": {},
     "output_type": "display_data"
    }
   ],
   "source": [
    "kolom_numerik = df.select_dtypes(include = 'number')\n",
    "matriks_korelasi = kolom_numerik.corr()\n",
    "plt.figure(figsize=(10, 7))\n",
    "\n",
    "sns.heatmap(\n",
    "    matriks_korelasi,\n",
    "    annot = True,\n",
    "    cmap = 'Blues',\n",
    "    fmt = '.2f'\n",
    ")\n",
    "\n",
    "plt.title('Heatmap korelasi antar atribut numerik', fontsize = 16)\n",
    "plt.show()"
   ]
  },
  {
   "cell_type": "markdown",
   "id": "9e5cea7a-47f7-4fce-b371-c744d4b3927e",
   "metadata": {},
   "source": [
    "# Soal 6\n",
    "\n",
    "## untuk soal 6 yaitu menampilkan korelasi dataset menggunakan heatmap\n",
    "\n",
    "###  kotak antara 'Years of Experience' dan 'Salary' dapat dilihat angka sekitar 0.93 angka tersebut sangat dekat dengan +1 berarti ada hubungan positif yang sangat kuat antara pengalaman kerja dan gaji\n",
    "\n",
    "### kotak antara /Age' dan 'Years of Experience' dapat dilihat angka sekitar 0.98 juga sangat dekat dengan +1 juga punya hubungan positif yang sangat kuat antara usia dan pengalaman"
   ]
  }
 ],
 "metadata": {
  "kernelspec": {
   "display_name": "Python 3 (ipykernel)",
   "language": "python",
   "name": "python3"
  },
  "language_info": {
   "codemirror_mode": {
    "name": "ipython",
    "version": 3
   },
   "file_extension": ".py",
   "mimetype": "text/x-python",
   "name": "python",
   "nbconvert_exporter": "python",
   "pygments_lexer": "ipython3",
   "version": "3.10.7"
  }
 },
 "nbformat": 4,
 "nbformat_minor": 5
}
