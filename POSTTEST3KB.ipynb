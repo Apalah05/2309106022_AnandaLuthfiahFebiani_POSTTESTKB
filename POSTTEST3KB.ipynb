{
 "cells": [
  {
   "cell_type": "code",
   "execution_count": 280,
   "id": "b4bccf50-9eef-48d7-acec-39c22431aeac",
   "metadata": {},
   "outputs": [],
   "source": [
    "import pandas as pd\n",
    "import matplotlib\n",
    "import matplotlib.pyplot as plt\n",
    "import seaborn as sns\n",
    "import numpy as np"
   ]
  },
  {
   "cell_type": "code",
   "execution_count": 281,
   "id": "8076e25f-12f2-4d81-b1ee-7496b1cbd740",
   "metadata": {},
   "outputs": [
    {
     "data": {
      "text/html": [
       "<div>\n",
       "<style scoped>\n",
       "    .dataframe tbody tr th:only-of-type {\n",
       "        vertical-align: middle;\n",
       "    }\n",
       "\n",
       "    .dataframe tbody tr th {\n",
       "        vertical-align: top;\n",
       "    }\n",
       "\n",
       "    .dataframe thead th {\n",
       "        text-align: right;\n",
       "    }\n",
       "</style>\n",
       "<table border=\"1\" class=\"dataframe\">\n",
       "  <thead>\n",
       "    <tr style=\"text-align: right;\">\n",
       "      <th></th>\n",
       "      <th>Age</th>\n",
       "      <th>Gender</th>\n",
       "      <th>Education Level</th>\n",
       "      <th>Job Title</th>\n",
       "      <th>Years of Experience</th>\n",
       "      <th>Salary</th>\n",
       "    </tr>\n",
       "  </thead>\n",
       "  <tbody>\n",
       "    <tr>\n",
       "      <th>0</th>\n",
       "      <td>32.0</td>\n",
       "      <td>Male</td>\n",
       "      <td>Bachelor's</td>\n",
       "      <td>Software Engineer</td>\n",
       "      <td>5.0</td>\n",
       "      <td>90000.0</td>\n",
       "    </tr>\n",
       "    <tr>\n",
       "      <th>1</th>\n",
       "      <td>28.0</td>\n",
       "      <td>Female</td>\n",
       "      <td>Master's</td>\n",
       "      <td>Data Analyst</td>\n",
       "      <td>3.0</td>\n",
       "      <td>65000.0</td>\n",
       "    </tr>\n",
       "    <tr>\n",
       "      <th>2</th>\n",
       "      <td>45.0</td>\n",
       "      <td>Male</td>\n",
       "      <td>PhD</td>\n",
       "      <td>Senior Manager</td>\n",
       "      <td>15.0</td>\n",
       "      <td>150000.0</td>\n",
       "    </tr>\n",
       "    <tr>\n",
       "      <th>3</th>\n",
       "      <td>36.0</td>\n",
       "      <td>Female</td>\n",
       "      <td>Bachelor's</td>\n",
       "      <td>Sales Associate</td>\n",
       "      <td>7.0</td>\n",
       "      <td>60000.0</td>\n",
       "    </tr>\n",
       "    <tr>\n",
       "      <th>4</th>\n",
       "      <td>52.0</td>\n",
       "      <td>Male</td>\n",
       "      <td>Master's</td>\n",
       "      <td>Director</td>\n",
       "      <td>20.0</td>\n",
       "      <td>200000.0</td>\n",
       "    </tr>\n",
       "    <tr>\n",
       "      <th>5</th>\n",
       "      <td>29.0</td>\n",
       "      <td>Male</td>\n",
       "      <td>Bachelor's</td>\n",
       "      <td>Marketing Analyst</td>\n",
       "      <td>2.0</td>\n",
       "      <td>55000.0</td>\n",
       "    </tr>\n",
       "    <tr>\n",
       "      <th>6</th>\n",
       "      <td>42.0</td>\n",
       "      <td>Female</td>\n",
       "      <td>Master's</td>\n",
       "      <td>Product Manager</td>\n",
       "      <td>12.0</td>\n",
       "      <td>120000.0</td>\n",
       "    </tr>\n",
       "    <tr>\n",
       "      <th>7</th>\n",
       "      <td>31.0</td>\n",
       "      <td>Male</td>\n",
       "      <td>Bachelor's</td>\n",
       "      <td>Sales Manager</td>\n",
       "      <td>4.0</td>\n",
       "      <td>80000.0</td>\n",
       "    </tr>\n",
       "    <tr>\n",
       "      <th>8</th>\n",
       "      <td>26.0</td>\n",
       "      <td>Female</td>\n",
       "      <td>Bachelor's</td>\n",
       "      <td>Marketing Coordinator</td>\n",
       "      <td>1.0</td>\n",
       "      <td>45000.0</td>\n",
       "    </tr>\n",
       "  </tbody>\n",
       "</table>\n",
       "</div>"
      ],
      "text/plain": [
       "    Age  Gender Education Level              Job Title  Years of Experience  \\\n",
       "0  32.0    Male      Bachelor's      Software Engineer                  5.0   \n",
       "1  28.0  Female        Master's           Data Analyst                  3.0   \n",
       "2  45.0    Male             PhD         Senior Manager                 15.0   \n",
       "3  36.0  Female      Bachelor's        Sales Associate                  7.0   \n",
       "4  52.0    Male        Master's               Director                 20.0   \n",
       "5  29.0    Male      Bachelor's      Marketing Analyst                  2.0   \n",
       "6  42.0  Female        Master's        Product Manager                 12.0   \n",
       "7  31.0    Male      Bachelor's          Sales Manager                  4.0   \n",
       "8  26.0  Female      Bachelor's  Marketing Coordinator                  1.0   \n",
       "\n",
       "     Salary  \n",
       "0   90000.0  \n",
       "1   65000.0  \n",
       "2  150000.0  \n",
       "3   60000.0  \n",
       "4  200000.0  \n",
       "5   55000.0  \n",
       "6  120000.0  \n",
       "7   80000.0  \n",
       "8   45000.0  "
      ]
     },
     "execution_count": 281,
     "metadata": {},
     "output_type": "execute_result"
    }
   ],
   "source": [
    "df = pd.read_csv('salary_data.csv')\n",
    "df.head(9)"
   ]
  },
  {
   "cell_type": "code",
   "execution_count": 282,
   "id": "dcaafa99-5714-490b-b340-57379f7436b9",
   "metadata": {},
   "outputs": [
    {
     "data": {
      "text/plain": [
       "(375, 6)"
      ]
     },
     "execution_count": 282,
     "metadata": {},
     "output_type": "execute_result"
    }
   ],
   "source": [
    "df.shape"
   ]
  },
  {
   "cell_type": "code",
   "execution_count": 283,
   "id": "666bfab6-b0d6-4c69-a23d-48adbcd775e1",
   "metadata": {},
   "outputs": [
    {
     "data": {
      "text/plain": [
       "array([ 5. ,  3. , 15. ,  7. , 20. ,  2. , 12. ,  4. ,  1. , 10. , 18. ,\n",
       "        6. , 14. , 16. ,  0. , 22. , 19. ,  9. , 13. , 11. , 25. , 21. ,\n",
       "        8. , 17. , 23. , 24. ,  0.5,  1.5,  nan])"
      ]
     },
     "execution_count": 283,
     "metadata": {},
     "output_type": "execute_result"
    }
   ],
   "source": [
    "df['Years of Experience'].unique()"
   ]
  },
  {
   "cell_type": "code",
   "execution_count": 284,
   "id": "cbfe7cb1-5ed0-4f63-9f75-cb9e05643656",
   "metadata": {},
   "outputs": [],
   "source": [
    "df.set_index('Age', inplace=True)"
   ]
  },
  {
   "cell_type": "code",
   "execution_count": 285,
   "id": "f3b11630-beff-48d5-a0a7-e16997f26ce1",
   "metadata": {},
   "outputs": [
    {
     "name": "stdout",
     "output_type": "stream",
     "text": [
      "       Years of Experience         Salary\n",
      "count           373.000000     373.000000\n",
      "mean             10.030831  100577.345845\n",
      "std               6.557007   48240.013482\n",
      "min               0.000000     350.000000\n",
      "25%               4.000000   55000.000000\n",
      "50%               9.000000   95000.000000\n",
      "75%              15.000000  140000.000000\n",
      "max              25.000000  250000.000000\n"
     ]
    }
   ],
   "source": [
    "statistik_numerik = df.describe()\n",
    "print(statistik_numerik)"
   ]
  },
  {
   "cell_type": "markdown",
   "id": "956f013f-e337-4023-9de4-c199f17a4d48",
   "metadata": {},
   "source": [
    "# Soal 1"
   ]
  },
  {
   "cell_type": "markdown",
   "id": "438bb2bd-6a71-4667-a5e1-cd051c7e7053",
   "metadata": {},
   "source": [
    "### Untuk soal 1 itu tabel yang menampilkan rata-rata(mean), standar deviasi, nilai minimum, nilai maksimum, Q1, Q2 dan Q3\n",
    "\n",
    "#### ada 'count' itu jumlah baris yang valid untuk setiap kolom, 'mean' itu nilai rata-rata dari setiap kolom dengan menjumlahkan semua nilai dan membaginya dengan 'count', 'std' ialah standar deviasi mengukur seberapa tersebar data dari 'mean', 'min' ialah nilai terkecil, '25%' adalah Q1 Ini adalah batas nilai di mana 25% data berada di bawah angka ini, '50%' adalah Q2 Ini adalah nilai tengah dari seluruh data, '75%' adalah Q3 Ini adalah batas nilai di mana 75% data berada di bawah angka ini dan terakhir 'max' adalah nilai terbesar."
   ]
  },
  {
   "cell_type": "code",
   "execution_count": 286,
   "id": "c31fa3f6-ed40-4c56-ac56-ef9ce99c8ca4",
   "metadata": {},
   "outputs": [
    {
     "name": "stdout",
     "output_type": "stream",
     "text": [
      "      Years of Experience    Salary\n",
      "Age                                \n",
      "32.0                  5.0   90000.0\n",
      "28.0                  3.0   65000.0\n",
      "45.0                 15.0  150000.0\n",
      "36.0                  7.0   60000.0\n",
      "52.0                 20.0  200000.0\n",
      "29.0                  2.0   55000.0\n",
      "42.0                 12.0  120000.0\n",
      "31.0                  4.0   80000.0\n",
      "26.0                  1.0   45000.0\n",
      "38.0                 10.0  110000.0\n"
     ]
    }
   ],
   "source": [
    "kolom_angka = df.select_dtypes(include = 'number')\n",
    "sepuluh_record = kolom_angka.head(10)\n",
    "print(sepuluh_record)"
   ]
  },
  {
   "cell_type": "markdown",
   "id": "8c250d6f-203d-4b82-9fff-d6ddedb5b461",
   "metadata": {},
   "source": [
    "# Soal 2"
   ]
  },
  {
   "cell_type": "markdown",
   "id": "4d2df036-428d-4903-92e2-8fcc9c2f9ce0",
   "metadata": {},
   "source": [
    "## untuk soal 2 menampilkan 10 record pertama dari dataset dengan attribute bertipe angka\n",
    "\n",
    "### tabel yang hanya menampilkan angka-angka saja di file csv memiliki kolom teks ('Gender', 'Job Title') dan kolom angka ('Age', 'Salary'). Perintah ini seperti menggunakan fitur filter di Excel dan menyembunyikan seluruh isi teks dan hanya nampilkan angka saja dengan perintah \"kolom_angka = df.select_dtypes(includes = 'number')\" karena mempertahankan tipe datanya numerik\n",
    "\n",
    "###  Perintah 'sepuluh_record = kolom_angka.head(10)' seperti menggulir ke paling atas dan menyoroti 10 baris data pertama (judul tidak termasuk) karena '.head()' berarti di kepala atau di atas sedangkan angka '10' itu hanya mengambil 10 baris saja"
   ]
  },
  {
   "cell_type": "code",
   "execution_count": 287,
   "id": "62a3c3f4-bf49-4e5a-bb56-cda8130c398d",
   "metadata": {},
   "outputs": [
    {
     "name": "stdout",
     "output_type": "stream",
     "text": [
      "Jumlah Record        : 373\n",
      "Jumlah Atribut       : 5\n",
      "Nama Atribut         : ['Gender', 'Education Level', 'Job Title', 'Years of Experience', 'Salary']\n",
      "Jumlah Atribut Angka : 2\n"
     ]
    }
   ],
   "source": [
    "df.dropna(inplace=True)\n",
    "jumlah_record, jumlah_atribut = df.shape\n",
    "nama_atribut = df.columns.tolist()\n",
    "jumlah_atribut_ang = df.select_dtypes(include = np.number).shape[1]\n",
    "\n",
    "print(f\"Jumlah Record        : {jumlah_record}\")\n",
    "print(f\"Jumlah Atribut       : {jumlah_atribut}\")\n",
    "print(f\"Nama Atribut         : {nama_atribut}\")\n",
    "print(f\"Jumlah Atribut Angka : {jumlah_atribut_ang}\")"
   ]
  },
  {
   "cell_type": "markdown",
   "id": "7c4086c5-a3a8-4323-8157-b146fe05e04d",
   "metadata": {},
   "source": [
    "# Soal 3\n",
    "\n",
    "## pada soal 3 menampilkan informasi jumlah record, jumlah attribute, nama attribute, jumlah attribute dengan tipe angka.\n",
    "\n",
    "### pada bagian 'df.dropna(inplace = True)' Fungsinya untuk menghapus baris mana pun yang punya nilai kosong, memastikan bahwa informasi yang kita dapatkan berasal dari data yang lengkap\n",
    "\n",
    "### kode bagian 'df.shape' itu untuk mengembalikan sebuah tuple yang berisi 'jumlah_baris, jumlah_kolom', itu disimpan ke dalam dua variabel 'jumlah_record' dan 'jumlah_attribute' secara langsung\n",
    "\n",
    "### kode 'df.columns.tolist()' Atribut '.columns' mengambil semua nama kolom, metode '.tolist()' mengubahnya menjadi format daftar atau list\n",
    "\n",
    "### tambahan sedikit untuk kode bagian 'df.select_dtypes(include = np.number).shape[1]' ada tambahan '.shape[1]' itu menunjuk pada elemen kedua, yaitu jumlah kolom"
   ]
  },
  {
   "cell_type": "code",
   "execution_count": 288,
   "id": "f9413ba4-beb9-40b8-a289-550d99e2b277",
   "metadata": {
    "scrolled": true
   },
   "outputs": [
    {
     "name": "stdout",
     "output_type": "stream",
     "text": [
      "Jumlah Label untuk setiap atribut kategorikal:\n",
      "\n",
      "Atribut: Gender\n",
      "Gender\n",
      "Male      194\n",
      "Female    179\n",
      "Name: count, dtype: int64\n",
      "\n",
      "\n",
      "Atribut: Education Level\n",
      "Education Level\n",
      "Bachelor's    224\n",
      "Master's       98\n",
      "PhD            51\n",
      "Name: count, dtype: int64\n",
      "\n",
      "\n",
      "Atribut: Job Title\n",
      "Job Title\n",
      "Director of Marketing              12\n",
      "Director of Operations             11\n",
      "Senior Business Analyst            10\n",
      "Senior Marketing Analyst            9\n",
      "Senior Marketing Manager            9\n",
      "                                   ..\n",
      "Business Development Manager        1\n",
      "Customer Service Representative     1\n",
      "IT Manager                          1\n",
      "Digital Marketing Manager           1\n",
      "Junior Web Developer                1\n",
      "Name: count, Length: 174, dtype: int64\n",
      "\n",
      "\n"
     ]
    }
   ],
   "source": [
    "kolom_objek = df.select_dtypes(include = 'object').columns\n",
    "print(\"Jumlah Label untuk setiap atribut kategorikal:\\n\")\n",
    "for col in kolom_objek:\n",
    "    print(f\"Atribut: {col}\")\n",
    "    print(df[col].value_counts())\n",
    "    print(\"\\n\")"
   ]
  },
  {
   "cell_type": "markdown",
   "id": "cb7c48d5-7189-42cd-b93f-a72760deb537",
   "metadata": {},
   "source": [
    "# Soal 4\n",
    "\n",
    "## untuk soal 4 memampilkan jumlah label dari semua attribute yang bernilai object \n",
    "\n",
    "### kode bagian ' df.select_dtypes(include = 'object').columns' mengambil nama-nama kolom yang tipe datanya adalah teks, alhasil adalah sebuah daftar nama kolom, yaitu ['Gender', 'Education Level', 'Job Title']\n",
    "\n",
    "### untuk kode bagian 'for col in kolom_objek:...' itu adalah sebuah perulangan/loop mengambil setiap nama kolom dari daftar 'kolom_objek' satu per satu dan menjalankan kode di selanjutnya"
   ]
  },
  {
   "cell_type": "code",
   "execution_count": 289,
   "id": "7e65bcba-5146-438c-8f1e-0435236ea926",
   "metadata": {},
   "outputs": [
    {
     "data": {
      "text/plain": [
       "<Figure size 1000x600 with 0 Axes>"
      ]
     },
     "execution_count": 289,
     "metadata": {},
     "output_type": "execute_result"
    },
    {
     "data": {
      "text/plain": [
       "<Figure size 1000x600 with 0 Axes>"
      ]
     },
     "metadata": {},
     "output_type": "display_data"
    }
   ],
   "source": [
    "plt.figure(figsize = (10, 6))"
   ]
  },
  {
   "cell_type": "code",
   "execution_count": 290,
   "id": "02f2735b-e734-4c72-9a9d-b13ae9624693",
   "metadata": {},
   "outputs": [
    {
     "name": "stderr",
     "output_type": "stream",
     "text": [
      "C:\\Users\\user\\AppData\\Local\\Temp\\ipykernel_11012\\463064272.py:5: FutureWarning: \n",
      "\n",
      "Passing `palette` without assigning `hue` is deprecated and will be removed in v0.14.0. Assign the `x` variable to `hue` and set `legend=False` for the same effect.\n",
      "\n",
      "  sns.barplot(\n"
     ]
    },
    {
     "data": {
      "image/png": "[encoded data removed]",
      "text/plain": [
       "<Figure size 1000x600 with 1 Axes>"
      ]
     },
     "metadata": {},
     "output_type": "display_data"
    }
   ],
   "source": [
    "rata_gaji = df.groupby('Education Level')['Salary'].mean()\n",
    "\n",
    "plt.figure(figsize=(10, 6))\n",
    "\n",
    "sns.barplot(\n",
    "    x = rata_gaji.index,\n",
    "    y = rata_gaji.values,\n",
    "    palette = 'viridis'\n",
    ")\n",
    "\n",
    "plt.title('Rata-rata gaji berdasarkan Gelar', fontsize=16)\n",
    "plt.xlabel('Gelar', fontsize=12)\n",
    "plt.ylabel('Rata-rata gaji', fontsize=12)\n",
    "plt.xticks(rotation=45, ha='right')\n",
    "plt.show()"
   ]
  },
  {
   "cell_type": "markdown",
   "id": "e17b38ca-0483-445d-b98f-fa67158ebebe",
   "metadata": {},
   "source": [
    "# Soal 5\n",
    "\n",
    "## Soal 5 yang dituju yaitu tentang visualisasikan dataset dengan salah satu grafik dan grafik yang saya pilih yaitu Barplot\n",
    "\n",
    "### kode bagian 'rata_gaji = df.groupby('Education Level')['Salary'].mean()' Hasilnya adalah sebuah Series di mana index-nya adalah 'Education Level' dan values-nya adalah rata-rata 'Salary'.\n",
    "\n",
    "### 'plt.figure' baris kode yang mengatur \"kanvas\" atau ukuran gambar plot jadi 10x6 inci agar tidak terlalu sempit\n",
    "\n",
    "### 'sns.barplot(...)' bagian kode ini adalah fungsi utama dari seaborn untuk membuat bar plot\n",
    "\n",
    "### dari kode bagian 'plt.title', 'plt.ylabel', 'plt.xticks' Fungsi-fungsi ini digunakan untuk memberikan judul pada grafik, mengatur rotasi judul dan label pada sumbu-sumbunya."
   ]
  },
  {
   "cell_type": "code",
   "execution_count": 291,
   "id": "c48815f4-aff7-42c2-afa7-e1478f93d8e1",
   "metadata": {},
   "outputs": [
    {
     "data": {
      "image/png": "[encoded data removed]",
      "text/plain": [
       "<Figure size 1000x700 with 2 Axes>"
      ]
     },
     "metadata": {},
     "output_type": "display_data"
    }
   ],
   "source": [
    "kolom_numerik = df.select_dtypes(include = 'number')\n",
    "matriks_korelasi = kolom_numerik.corr()\n",
    "plt.figure(figsize=(10, 7))\n",
    "\n",
    "sns.heatmap(\n",
    "    matriks_korelasi,\n",
    "    annot = True,\n",
    "    cmap = 'Blues',\n",
    "    fmt = '.2f'\n",
    ")\n",
    "\n",
    "plt.title('Heatmap korelasi antar atribut numerik', fontsize = 16)\n",
    "plt.show()"
   ]
  },
  {
   "cell_type": "markdown",
   "id": "9e5cea7a-47f7-4fce-b371-c744d4b3927e",
   "metadata": {},
   "source": [
    "# Soal 6\n",
    "\n",
    "## untuk soal 6 yaitu menampilkan korelasi dataset menggunakan heatmap\n",
    "\n",
    "###  kotak antara 'Years of Experience' dan 'Salary' dapat dilihat angka sekitar 0.93 angka tersebut sangat dekat dengan +1 berarti ada hubungan positif yang sangat kuat antara pengalaman kerja dan gaji\n",
    "\n",
    "### kotak antara /Age' dan 'Years of Experience' dapat dilihat angka sekitar 0.98 juga sangat dekat dengan +1 juga punya hubungan positif yang sangat kuat antara usia dan pengalaman"
   ]
  },
  {
   "cell_type": "markdown",
   "id": "c085664e-1807-4d65-a06c-1524269924a7",
   "metadata": {},
   "source": [
    "# LANJUTAN POSTTEST, POSTTEST 3"
   ]
  },
  {
   "cell_type": "markdown",
   "id": "147e21cb-ab8b-4f54-a536-000aa3f60038",
   "metadata": {},
   "source": [
    "## Data Cleaning (Handling Missing Value, Handling Duplicate Value dan Handling Outlier)"
   ]
  },
  {
   "cell_type": "markdown",
   "id": "fbc13052-77c6-41e6-b7b8-f26215072331",
   "metadata": {},
   "source": [
    "### Handling Missing Value"
   ]
  },
  {
   "cell_type": "code",
   "execution_count": 292,
   "id": "971f1e05-bd5b-4e5d-9c33-2cf49c4bb730",
   "metadata": {},
   "outputs": [
    {
     "data": {
      "text/plain": [
       "Gender                 0\n",
       "Education Level        0\n",
       "Job Title              0\n",
       "Years of Experience    0\n",
       "Salary                 0\n",
       "dtype: int64"
      ]
     },
     "execution_count": 292,
     "metadata": {},
     "output_type": "execute_result"
    }
   ],
   "source": [
    "df.isnull().sum()"
   ]
  },
  {
   "cell_type": "markdown",
   "id": "b41e1386-b59f-4f62-9584-02106649b9c3",
   "metadata": {},
   "source": [
    "### digunakan untuk memeriksa apakah ada nilai yang hilang (kosong atau null) di setiap kolom pada 'df'"
   ]
  },
  {
   "cell_type": "code",
   "execution_count": 293,
   "id": "eda03237-3b48-4731-97fb-a3dc5dca8578",
   "metadata": {
    "scrolled": true
   },
   "outputs": [
    {
     "data": {
      "text/html": [
       "<div>\n",
       "<style scoped>\n",
       "    .dataframe tbody tr th:only-of-type {\n",
       "        vertical-align: middle;\n",
       "    }\n",
       "\n",
       "    .dataframe tbody tr th {\n",
       "        vertical-align: top;\n",
       "    }\n",
       "\n",
       "    .dataframe thead th {\n",
       "        text-align: right;\n",
       "    }\n",
       "</style>\n",
       "<table border=\"1\" class=\"dataframe\">\n",
       "  <thead>\n",
       "    <tr style=\"text-align: right;\">\n",
       "      <th></th>\n",
       "      <th>Salary</th>\n",
       "    </tr>\n",
       "    <tr>\n",
       "      <th>Age</th>\n",
       "      <th></th>\n",
       "    </tr>\n",
       "  </thead>\n",
       "  <tbody>\n",
       "    <tr>\n",
       "      <th>32.0</th>\n",
       "      <td>90000.0</td>\n",
       "    </tr>\n",
       "    <tr>\n",
       "      <th>28.0</th>\n",
       "      <td>65000.0</td>\n",
       "    </tr>\n",
       "    <tr>\n",
       "      <th>45.0</th>\n",
       "      <td>150000.0</td>\n",
       "    </tr>\n",
       "    <tr>\n",
       "      <th>36.0</th>\n",
       "      <td>60000.0</td>\n",
       "    </tr>\n",
       "    <tr>\n",
       "      <th>52.0</th>\n",
       "      <td>200000.0</td>\n",
       "    </tr>\n",
       "    <tr>\n",
       "      <th>...</th>\n",
       "      <td>...</td>\n",
       "    </tr>\n",
       "    <tr>\n",
       "      <th>35.0</th>\n",
       "      <td>85000.0</td>\n",
       "    </tr>\n",
       "    <tr>\n",
       "      <th>43.0</th>\n",
       "      <td>170000.0</td>\n",
       "    </tr>\n",
       "    <tr>\n",
       "      <th>29.0</th>\n",
       "      <td>40000.0</td>\n",
       "    </tr>\n",
       "    <tr>\n",
       "      <th>34.0</th>\n",
       "      <td>90000.0</td>\n",
       "    </tr>\n",
       "    <tr>\n",
       "      <th>44.0</th>\n",
       "      <td>150000.0</td>\n",
       "    </tr>\n",
       "  </tbody>\n",
       "</table>\n",
       "<p>373 rows × 1 columns</p>\n",
       "</div>"
      ],
      "text/plain": [
       "        Salary\n",
       "Age           \n",
       "32.0   90000.0\n",
       "28.0   65000.0\n",
       "45.0  150000.0\n",
       "36.0   60000.0\n",
       "52.0  200000.0\n",
       "...        ...\n",
       "35.0   85000.0\n",
       "43.0  170000.0\n",
       "29.0   40000.0\n",
       "34.0   90000.0\n",
       "44.0  150000.0\n",
       "\n",
       "[373 rows x 1 columns]"
      ]
     },
     "execution_count": 293,
     "metadata": {},
     "output_type": "execute_result"
    }
   ],
   "source": [
    "df[['Salary']]"
   ]
  },
  {
   "cell_type": "markdown",
   "id": "22683b65-81aa-46bf-8106-8d980ac7cbd5",
   "metadata": {},
   "source": [
    "### Handling Duplicate Value"
   ]
  },
  {
   "cell_type": "code",
   "execution_count": 294,
   "id": "680e719f-1032-4a0a-85de-d9583a1f071e",
   "metadata": {},
   "outputs": [
    {
     "name": "stdout",
     "output_type": "stream",
     "text": [
      "Jumlah nilai duplikat pada data:  55\n"
     ]
    }
   ],
   "source": [
    "duplicate = df.duplicated().sum()\n",
    "print('Jumlah nilai duplikat pada data: ', duplicate)"
   ]
  },
  {
   "cell_type": "markdown",
   "id": "a6f0ab94-4267-45f0-bf86-2cd306c9e41b",
   "metadata": {},
   "source": [
    "### 'duplicated()' memindai seluruh tabel dataset dari atas ke bawah, 'sum()' ini menjumlahkan semua nilai True untuk mendapatkan total baris duplikat."
   ]
  },
  {
   "cell_type": "code",
   "execution_count": 295,
   "id": "0d4f5051-196b-4eaf-b690-8a31da8bcd78",
   "metadata": {},
   "outputs": [
    {
     "name": "stdout",
     "output_type": "stream",
     "text": [
      "Jumlah nilai duplikat pada data sekarang:  0\n"
     ]
    }
   ],
   "source": [
    "df.drop_duplicates(inplace=True)\n",
    "\n",
    "print('Jumlah nilai duplikat pada data sekarang: ',\n",
    "df.duplicated().sum())"
   ]
  },
  {
   "cell_type": "markdown",
   "id": "0ea7c527-eed0-454f-968d-caa16feea05f",
   "metadata": {},
   "source": [
    "### Handling Outlier"
   ]
  },
  {
   "cell_type": "code",
   "execution_count": 296,
   "id": "1cd19df4-6cec-4517-9288-da51664bc98e",
   "metadata": {},
   "outputs": [
    {
     "data": {
      "image/png": "[encoded data removed]",
      "text/plain": [
       "<Figure size 1000x600 with 1 Axes>"
      ]
     },
     "metadata": {},
     "output_type": "display_data"
    }
   ],
   "source": [
    "plt.figure(figsize=(10, 6))\n",
    "sns.boxplot(x = df['Salary'])\n",
    "plt.title('Boxplot deteksi Outlier pada gaji')\n",
    "plt.xlabel('Gaji')\n",
    "plt.show()"
   ]
  },
  {
   "cell_type": "markdown",
   "id": "98e854a8-f6aa-4ded-bc68-5d75a91ab44e",
   "metadata": {},
   "source": [
    "### terlihat ada beberapa titik di sisi kanan, jauh dari ujung garis horizontal. Ini adalah konfirmasi visual bahwa terdapat outlier pada kolom 'Salary'. Artinya, ada beberapa data gaji yang nilainya jauh lebih tinggi dibandingkan dengan sebagian besar data gaji lainnya di dataset"
   ]
  },
  {
   "cell_type": "code",
   "execution_count": 323,
   "id": "bfdf42bf-d0c0-4fc4-9d21-fd240d9f853f",
   "metadata": {},
   "outputs": [],
   "source": [
    "from sklearn.impute import SimpleImputer\n",
    "from sklearn.preprocessing import StandardScaler\n",
    "from sklearn.preprocessing import MinMaxScaler\n",
    "from sklearn.preprocessing import OrdinalEncoder\n",
    "from sklearn.preprocessing import OneHotEncoder\n",
    "from sklearn.model_selection import train_test_split"
   ]
  },
  {
   "cell_type": "code",
   "execution_count": 324,
   "id": "11c8a4a0-f2ae-43b5-bf84-80ad0f2f942a",
   "metadata": {},
   "outputs": [],
   "source": [
    "df.dropna(inplace=True)\n",
    "df.drop_duplicates(inplace=True)"
   ]
  },
  {
   "cell_type": "markdown",
   "id": "0726df3b-8670-4726-aaf5-9a1928301def",
   "metadata": {},
   "source": [
    "## Normalisasi"
   ]
  },
  {
   "cell_type": "code",
   "execution_count": 325,
   "id": "022aa46c-6152-47df-91c6-cfebf14d6ba7",
   "metadata": {},
   "outputs": [
    {
     "name": "stdout",
     "output_type": "stream",
     "text": [
      "Data Setelah Normalisasi:\n"
     ]
    },
    {
     "data": {
      "text/html": [
       "<div>\n",
       "<style scoped>\n",
       "    .dataframe tbody tr th:only-of-type {\n",
       "        vertical-align: middle;\n",
       "    }\n",
       "\n",
       "    .dataframe tbody tr th {\n",
       "        vertical-align: top;\n",
       "    }\n",
       "\n",
       "    .dataframe thead th {\n",
       "        text-align: right;\n",
       "    }\n",
       "</style>\n",
       "<table border=\"1\" class=\"dataframe\">\n",
       "  <thead>\n",
       "    <tr style=\"text-align: right;\">\n",
       "      <th></th>\n",
       "      <th>Education Level</th>\n",
       "      <th>Years of Experience</th>\n",
       "      <th>Salary</th>\n",
       "      <th>Gelar_Encoded</th>\n",
       "      <th>Education_Encoded</th>\n",
       "      <th>Gaji_Tiap_Pengalaman</th>\n",
       "    </tr>\n",
       "  </thead>\n",
       "  <tbody>\n",
       "    <tr>\n",
       "      <th>0</th>\n",
       "      <td>0.0</td>\n",
       "      <td>0.20</td>\n",
       "      <td>0.359103</td>\n",
       "      <td>0.0</td>\n",
       "      <td>0.0</td>\n",
       "      <td>0.426277</td>\n",
       "    </tr>\n",
       "    <tr>\n",
       "      <th>1</th>\n",
       "      <td>0.5</td>\n",
       "      <td>0.12</td>\n",
       "      <td>0.258963</td>\n",
       "      <td>0.5</td>\n",
       "      <td>0.5</td>\n",
       "      <td>0.462134</td>\n",
       "    </tr>\n",
       "    <tr>\n",
       "      <th>2</th>\n",
       "      <td>1.0</td>\n",
       "      <td>0.60</td>\n",
       "      <td>0.599439</td>\n",
       "      <td>1.0</td>\n",
       "      <td>1.0</td>\n",
       "      <td>0.264917</td>\n",
       "    </tr>\n",
       "    <tr>\n",
       "      <th>3</th>\n",
       "      <td>0.0</td>\n",
       "      <td>0.28</td>\n",
       "      <td>0.238935</td>\n",
       "      <td>0.0</td>\n",
       "      <td>0.0</td>\n",
       "      <td>0.211130</td>\n",
       "    </tr>\n",
       "    <tr>\n",
       "      <th>4</th>\n",
       "      <td>0.5</td>\n",
       "      <td>0.80</td>\n",
       "      <td>0.799720</td>\n",
       "      <td>0.5</td>\n",
       "      <td>0.5</td>\n",
       "      <td>0.269186</td>\n",
       "    </tr>\n",
       "  </tbody>\n",
       "</table>\n",
       "</div>"
      ],
      "text/plain": [
       "   Education Level  Years of Experience    Salary  Gelar_Encoded  \\\n",
       "0              0.0                 0.20  0.359103            0.0   \n",
       "1              0.5                 0.12  0.258963            0.5   \n",
       "2              1.0                 0.60  0.599439            1.0   \n",
       "3              0.0                 0.28  0.238935            0.0   \n",
       "4              0.5                 0.80  0.799720            0.5   \n",
       "\n",
       "   Education_Encoded  Gaji_Tiap_Pengalaman  \n",
       "0                0.0              0.426277  \n",
       "1                0.5              0.462134  \n",
       "2                1.0              0.264917  \n",
       "3                0.0              0.211130  \n",
       "4                0.5              0.269186  "
      ]
     },
     "execution_count": 325,
     "metadata": {},
     "output_type": "execute_result"
    }
   ],
   "source": [
    "norm_scaler = MinMaxScaler(feature_range=(0,1))\n",
    "\n",
    "num_col = [col for col in df.columns if df[col].dtypes != 'O' and col != 'Id']\n",
    "x_numerik = df[num_col]\n",
    "\n",
    "x_normalisasi = norm_scaler.fit_transform(x_numerik)\n",
    "df_normalisasi = pd.DataFrame(x_normalisasi, columns = num_col)\n",
    "print(\"Data Setelah Normalisasi:\")\n",
    "df_normalisasi.head()"
   ]
  },
  {
   "cell_type": "markdown",
   "id": "9d5670e0-a1f9-44dd-bb3f-690e1a5199ea",
   "metadata": {},
   "source": [
    "### Semua Nilai Berada di Rentang 0-1, pada baris pertama, 'Years of Experience' bernilai 0.20. Ini artinya, pengalaman kerja orang tersebut adalah 20% dari rentang total pengalaman kerja yang ada di dataset. 'Salary' bernilai 0.359103, ini berarti gajinya berada di sekitar 36% dari rentang total gaji yang ada. 'Gaji_Tiap_Pengalaman' bernilai 0.426277 berarti berada di sekitar 42% dari rentang gaji tiap pengalaman yang ada."
   ]
  },
  {
   "cell_type": "markdown",
   "id": "a094de44-6576-4a13-b114-081394bb7c0e",
   "metadata": {},
   "source": [
    "## Standarisasi"
   ]
  },
  {
   "cell_type": "code",
   "execution_count": 326,
   "id": "edb28d9e-bfb4-4f85-9704-7fd33cf1db26",
   "metadata": {},
   "outputs": [
    {
     "name": "stdout",
     "output_type": "stream",
     "text": [
      "\n",
      "Data Setelah Standarisasi:\n"
     ]
    },
    {
     "data": {
      "text/html": [
       "<div>\n",
       "<style scoped>\n",
       "    .dataframe tbody tr th:only-of-type {\n",
       "        vertical-align: middle;\n",
       "    }\n",
       "\n",
       "    .dataframe tbody tr th {\n",
       "        vertical-align: top;\n",
       "    }\n",
       "\n",
       "    .dataframe thead th {\n",
       "        text-align: right;\n",
       "    }\n",
       "</style>\n",
       "<table border=\"1\" class=\"dataframe\">\n",
       "  <thead>\n",
       "    <tr style=\"text-align: right;\">\n",
       "      <th></th>\n",
       "      <th>Education Level</th>\n",
       "      <th>Years of Experience</th>\n",
       "      <th>Salary</th>\n",
       "      <th>Gelar_Encoded</th>\n",
       "      <th>Education_Encoded</th>\n",
       "      <th>Gaji_Tiap_Pengalaman</th>\n",
       "    </tr>\n",
       "  </thead>\n",
       "  <tbody>\n",
       "    <tr>\n",
       "      <th>0</th>\n",
       "      <td>-0.751037</td>\n",
       "      <td>-0.757099</td>\n",
       "      <td>-0.196673</td>\n",
       "      <td>-0.751037</td>\n",
       "      <td>-0.751037</td>\n",
       "      <td>1.142093</td>\n",
       "    </tr>\n",
       "    <tr>\n",
       "      <th>1</th>\n",
       "      <td>0.653844</td>\n",
       "      <td>-1.059748</td>\n",
       "      <td>-0.714344</td>\n",
       "      <td>0.653844</td>\n",
       "      <td>0.653844</td>\n",
       "      <td>1.461804</td>\n",
       "    </tr>\n",
       "    <tr>\n",
       "      <th>2</th>\n",
       "      <td>2.058725</td>\n",
       "      <td>0.756147</td>\n",
       "      <td>1.045738</td>\n",
       "      <td>2.058725</td>\n",
       "      <td>2.058725</td>\n",
       "      <td>-0.296610</td>\n",
       "    </tr>\n",
       "    <tr>\n",
       "      <th>3</th>\n",
       "      <td>-0.751037</td>\n",
       "      <td>-0.454450</td>\n",
       "      <td>-0.817878</td>\n",
       "      <td>-0.751037</td>\n",
       "      <td>-0.751037</td>\n",
       "      <td>-0.776178</td>\n",
       "    </tr>\n",
       "    <tr>\n",
       "      <th>4</th>\n",
       "      <td>0.653844</td>\n",
       "      <td>1.512770</td>\n",
       "      <td>2.081081</td>\n",
       "      <td>0.653844</td>\n",
       "      <td>0.653844</td>\n",
       "      <td>-0.258549</td>\n",
       "    </tr>\n",
       "  </tbody>\n",
       "</table>\n",
       "</div>"
      ],
      "text/plain": [
       "   Education Level  Years of Experience    Salary  Gelar_Encoded  \\\n",
       "0        -0.751037            -0.757099 -0.196673      -0.751037   \n",
       "1         0.653844            -1.059748 -0.714344       0.653844   \n",
       "2         2.058725             0.756147  1.045738       2.058725   \n",
       "3        -0.751037            -0.454450 -0.817878      -0.751037   \n",
       "4         0.653844             1.512770  2.081081       0.653844   \n",
       "\n",
       "   Education_Encoded  Gaji_Tiap_Pengalaman  \n",
       "0          -0.751037              1.142093  \n",
       "1           0.653844              1.461804  \n",
       "2           2.058725             -0.296610  \n",
       "3          -0.751037             -0.776178  \n",
       "4           0.653844             -0.258549  "
      ]
     },
     "execution_count": 326,
     "metadata": {},
     "output_type": "execute_result"
    }
   ],
   "source": [
    "std_scaler = StandardScaler()\n",
    "\n",
    "num_col_ = [col for col in df.columns if df[col].dtypes != 'O' and col != 'Id']\n",
    "x1 = df[num_col_]\n",
    "\n",
    "x_standarisasi = std_scaler.fit_transform(x1)\n",
    "\n",
    "df_standardized = pd.DataFrame(x_standarisasi, columns=num_col_)\n",
    "print(\"\\nData Setelah Standarisasi:\")\n",
    "df_standardized.head()"
   ]
  },
  {
   "cell_type": "markdown",
   "id": "e8daf106-3fd4-4a4d-a348-7db7cae0f069",
   "metadata": {},
   "source": [
    "### Ada nilai positif dan negatif beda dengan normalisasi (yang nilainya 0-1), hasil standarisasi memiliki nilai positif dan negatif. Nilai yang baru ini menunjukkan seberapa jauh sebuah data dari rata-ratanya, diukur dalam satuan standar deviasi. Nilai Negatif (Pada 'Years of Experience' baris ke-2: -1.09748) berarti, nilai asli dari data tersebut berada di bawah rata-rata. Angka -1.09 berarti nilai aslinya sekitar 1.09 standar deviasi di bawah rata-rata pengalaman kerja. Nilai Positif ('Salary' baris ke-3: 1.045738) Artinya, nilai asli data tersebut berada di atas rata-rata. Angka 1.04 berarti gaji aslinya sekitar 1.04 standar deviasi di atas rata-rata gaji. Nilai Mendekati 0 ini nunjukkan bahwa nilai asli data tersebut sangat dekat dengan nilai rata-rata."
   ]
  },
  {
   "cell_type": "markdown",
   "id": "84d7abd2-f82c-4b38-8340-029d1bb9a0a0",
   "metadata": {},
   "source": [
    "## Encoding"
   ]
  },
  {
   "cell_type": "code",
   "execution_count": 327,
   "id": "28698815-15ff-4ad3-8c71-d5bb53a0416a",
   "metadata": {},
   "outputs": [
    {
     "data": {
      "text/plain": [
       "array([0., 1., 2.])"
      ]
     },
     "execution_count": 327,
     "metadata": {},
     "output_type": "execute_result"
    }
   ],
   "source": [
    "df['Education Level'].unique()"
   ]
  },
  {
   "cell_type": "code",
   "execution_count": 328,
   "id": "936b58e9-5b0d-4864-890b-a301674dc05b",
   "metadata": {},
   "outputs": [
    {
     "data": {
      "text/plain": [
       "array([ 5. ,  3. , 15. ,  7. , 20. ,  2. , 12. ,  4. ,  1. , 10. , 18. ,\n",
       "        6. , 14. , 16. ,  0. , 22. , 19. ,  9. , 13. , 11. , 25. , 21. ,\n",
       "        8. , 17. , 23. , 24. ,  0.5,  1.5])"
      ]
     },
     "execution_count": 328,
     "metadata": {},
     "output_type": "execute_result"
    }
   ],
   "source": [
    "df['Years of Experience'].unique()"
   ]
  },
  {
   "cell_type": "code",
   "execution_count": 329,
   "id": "bedf8b06-814a-480c-b381-f44b977f5c1f",
   "metadata": {},
   "outputs": [
    {
     "data": {
      "text/plain": [
       "array([ 90000.,  65000., 150000.,  60000., 200000.,  55000., 120000.,\n",
       "        80000.,  45000., 110000.,  75000., 140000., 130000.,  40000.,\n",
       "       125000., 115000.,  35000., 180000., 190000.,  50000., 250000.,\n",
       "       170000., 160000.,  85000.,  95000., 105000.,  70000., 100000.,\n",
       "        30000., 135000., 220000., 175000., 185000., 145000., 155000.,\n",
       "          350.])"
      ]
     },
     "execution_count": 329,
     "metadata": {},
     "output_type": "execute_result"
    }
   ],
   "source": [
    "df['Salary'].unique()"
   ]
  },
  {
   "cell_type": "code",
   "execution_count": 330,
   "id": "569e5cbb-f8e8-47dd-a52a-5b52c2dc2ee6",
   "metadata": {},
   "outputs": [],
   "source": [
    "from sklearn.preprocessing import OrdinalEncoder\n",
    "encoder = OrdinalEncoder()\n",
    "df['Education Level'] = encoder.fit_transform(df[['Education Level']])"
   ]
  },
  {
   "cell_type": "markdown",
   "id": "731651fe-a61b-4d34-bd1c-0f0c8ae7b4d1",
   "metadata": {},
   "source": [
    "### Ordinal Encoder akan mengubah setiap kategori menjadi sebuah angka integer berdasarkan urutannya, misalnya Bachelor's menjadi 0, Master's menjadi 1, dan PhD menjadi 2."
   ]
  },
  {
   "cell_type": "code",
   "execution_count": 331,
   "id": "825165fb-fbc7-4146-ac02-b8047553dfad",
   "metadata": {},
   "outputs": [],
   "source": [
    "from sklearn.preprocessing import OneHotEncoder\n",
    "df_encoded = pd.get_dummies(df, columns=['Gender', 'Job Title'], drop_first=True)"
   ]
  },
  {
   "cell_type": "markdown",
   "id": "f1a4617d-3c4f-4470-a90a-6d923867e3c7",
   "metadata": {},
   "source": [
    "### Gender (Male/Female) dan Job Title (Software Engineer, Data Analyst, dll.) tidak memiliki tingkatan. \"Software Engineer\" tidak lebih tinggi atau lebih rendah dari \"Data Analyst\". Pada Gender, ia akan membuat kolom baru (contoh: Gender_Male). Jika datanya adalah \"Male\", kolom Gender_Male akan bernilai 1 dan 0 jika \"Female\"."
   ]
  },
  {
   "cell_type": "markdown",
   "id": "4c4d78a6-bb28-4cfc-8bc0-cfa674db74ed",
   "metadata": {},
   "source": [
    "## Feature Engineering"
   ]
  },
  {
   "cell_type": "code",
   "execution_count": 332,
   "id": "13bed00a-e52c-4157-88cb-26115272a21e",
   "metadata": {},
   "outputs": [],
   "source": [
    "df['Gaji_Tiap_Pengalaman'] = df['Salary'] / (df['Years of Experience'] + 1)"
   ]
  },
  {
   "cell_type": "markdown",
   "id": "395beb74-8506-4a42-84de-22739fb082e6",
   "metadata": {},
   "source": [
    "### Fitur yang bisa menangkap pola yang tidak terlihat jika hanya melihat gaji atau pengalaman secara terpisah. Misalnya, seorang junior dengan gaji tinggi mungkin memiliki 'Gaji_Tiap_Pengalaman' yang lebih besar daripada seorang senior. Menambahkan + 1 pada Years of Experience adalah langkah cerdas untuk mencegah error pembagian dengan nol, terutama jika ada data pegawai yang memiliki 0 tahun pengalaman."
   ]
  },
  {
   "cell_type": "markdown",
   "id": "2cd5f314-366b-45e8-a073-9d93fbb68adc",
   "metadata": {},
   "source": [
    "## Splitting Data "
   ]
  },
  {
   "cell_type": "markdown",
   "id": "0fe8a650-6e23-4adc-8d3e-f825f260b857",
   "metadata": {},
   "source": [
    "### dalam data training & data testing"
   ]
  },
  {
   "cell_type": "code",
   "execution_count": 336,
   "id": "75b4e904-45e3-4387-abaa-d7429d3bd91d",
   "metadata": {},
   "outputs": [],
   "source": [
    "X = df.drop('Salary', axis=1)\n",
    "y = df['Salary']\n",
    "\n",
    "X_train, X_test, y_train, y_test = train_test_split(X, y, test_size=0.2, random_state=42)"
   ]
  },
  {
   "cell_type": "code",
   "execution_count": 337,
   "id": "41e124a7-91ac-44f5-a703-c7d52f93aa0d",
   "metadata": {},
   "outputs": [
    {
     "data": {
      "text/plain": [
       "(254, 7)"
      ]
     },
     "execution_count": 337,
     "metadata": {},
     "output_type": "execute_result"
    }
   ],
   "source": [
    "X_train.shape"
   ]
  },
  {
   "cell_type": "code",
   "execution_count": 338,
   "id": "573f4a1c-0760-4057-a866-c37dafe8e3a7",
   "metadata": {},
   "outputs": [
    {
     "data": {
      "text/plain": [
       "(64, 7)"
      ]
     },
     "execution_count": 338,
     "metadata": {},
     "output_type": "execute_result"
    }
   ],
   "source": [
    "X_test.shape"
   ]
  },
  {
   "cell_type": "code",
   "execution_count": null,
   "id": "68f44135-f619-460f-8fc9-8a2a0b45a449",
   "metadata": {},
   "outputs": [],
   "source": []
  }
 ],
 "metadata": {
  "kernelspec": {
   "display_name": "Python 3 (ipykernel)",
   "language": "python",
   "name": "python3"
  },
  "language_info": {
   "codemirror_mode": {
    "name": "ipython",
    "version": 3
   },
   "file_extension": ".py",
   "mimetype": "text/x-python",
   "name": "python",
   "nbconvert_exporter": "python",
   "pygments_lexer": "ipython3",
   "version": "3.10.7"
  }
 },
 "nbformat": 4,
 "nbformat_minor": 5
}
